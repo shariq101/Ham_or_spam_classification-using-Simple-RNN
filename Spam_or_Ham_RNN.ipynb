{
  "nbformat": 4,
  "nbformat_minor": 0,
  "metadata": {
    "colab": {
      "provenance": [],
      "authorship_tag": "ABX9TyNnh9COuJGkL6DB3DZKF5M1",
      "include_colab_link": true
    },
    "kernelspec": {
      "name": "python3",
      "display_name": "Python 3"
    },
    "language_info": {
      "name": "python"
    }
  },
  "cells": [
    {
      "cell_type": "markdown",
      "metadata": {
        "id": "view-in-github",
        "colab_type": "text"
      },
      "source": [
        "<a href=\"https://colab.research.google.com/github/shariq101/Ham_or_spam_classification-using-Simple-RNN/blob/main/Spam_or_Ham_RNN.ipynb\" target=\"_parent\"><img src=\"https://colab.research.google.com/assets/colab-badge.svg\" alt=\"Open In Colab\"/></a>"
      ]
    },
    {
      "cell_type": "code",
      "execution_count": null,
      "metadata": {
        "colab": {
          "base_uri": "https://localhost:8080/",
          "height": 73
        },
        "id": "YVfYJfe5eOz4",
        "outputId": "fc50bb05-c640-4ab1-9912-3dec39f552c8"
      },
      "outputs": [
        {
          "output_type": "display_data",
          "data": {
            "text/plain": [
              "<IPython.core.display.HTML object>"
            ],
            "text/html": [
              "\n",
              "     <input type=\"file\" id=\"files-088347c5-25af-4493-8855-ac4dbbc7e8a8\" name=\"files[]\" multiple disabled\n",
              "        style=\"border:none\" />\n",
              "     <output id=\"result-088347c5-25af-4493-8855-ac4dbbc7e8a8\">\n",
              "      Upload widget is only available when the cell has been executed in the\n",
              "      current browser session. Please rerun this cell to enable.\n",
              "      </output>\n",
              "      <script>// Copyright 2017 Google LLC\n",
              "//\n",
              "// Licensed under the Apache License, Version 2.0 (the \"License\");\n",
              "// you may not use this file except in compliance with the License.\n",
              "// You may obtain a copy of the License at\n",
              "//\n",
              "//      http://www.apache.org/licenses/LICENSE-2.0\n",
              "//\n",
              "// Unless required by applicable law or agreed to in writing, software\n",
              "// distributed under the License is distributed on an \"AS IS\" BASIS,\n",
              "// WITHOUT WARRANTIES OR CONDITIONS OF ANY KIND, either express or implied.\n",
              "// See the License for the specific language governing permissions and\n",
              "// limitations under the License.\n",
              "\n",
              "/**\n",
              " * @fileoverview Helpers for google.colab Python module.\n",
              " */\n",
              "(function(scope) {\n",
              "function span(text, styleAttributes = {}) {\n",
              "  const element = document.createElement('span');\n",
              "  element.textContent = text;\n",
              "  for (const key of Object.keys(styleAttributes)) {\n",
              "    element.style[key] = styleAttributes[key];\n",
              "  }\n",
              "  return element;\n",
              "}\n",
              "\n",
              "// Max number of bytes which will be uploaded at a time.\n",
              "const MAX_PAYLOAD_SIZE = 100 * 1024;\n",
              "\n",
              "function _uploadFiles(inputId, outputId) {\n",
              "  const steps = uploadFilesStep(inputId, outputId);\n",
              "  const outputElement = document.getElementById(outputId);\n",
              "  // Cache steps on the outputElement to make it available for the next call\n",
              "  // to uploadFilesContinue from Python.\n",
              "  outputElement.steps = steps;\n",
              "\n",
              "  return _uploadFilesContinue(outputId);\n",
              "}\n",
              "\n",
              "// This is roughly an async generator (not supported in the browser yet),\n",
              "// where there are multiple asynchronous steps and the Python side is going\n",
              "// to poll for completion of each step.\n",
              "// This uses a Promise to block the python side on completion of each step,\n",
              "// then passes the result of the previous step as the input to the next step.\n",
              "function _uploadFilesContinue(outputId) {\n",
              "  const outputElement = document.getElementById(outputId);\n",
              "  const steps = outputElement.steps;\n",
              "\n",
              "  const next = steps.next(outputElement.lastPromiseValue);\n",
              "  return Promise.resolve(next.value.promise).then((value) => {\n",
              "    // Cache the last promise value to make it available to the next\n",
              "    // step of the generator.\n",
              "    outputElement.lastPromiseValue = value;\n",
              "    return next.value.response;\n",
              "  });\n",
              "}\n",
              "\n",
              "/**\n",
              " * Generator function which is called between each async step of the upload\n",
              " * process.\n",
              " * @param {string} inputId Element ID of the input file picker element.\n",
              " * @param {string} outputId Element ID of the output display.\n",
              " * @return {!Iterable<!Object>} Iterable of next steps.\n",
              " */\n",
              "function* uploadFilesStep(inputId, outputId) {\n",
              "  const inputElement = document.getElementById(inputId);\n",
              "  inputElement.disabled = false;\n",
              "\n",
              "  const outputElement = document.getElementById(outputId);\n",
              "  outputElement.innerHTML = '';\n",
              "\n",
              "  const pickedPromise = new Promise((resolve) => {\n",
              "    inputElement.addEventListener('change', (e) => {\n",
              "      resolve(e.target.files);\n",
              "    });\n",
              "  });\n",
              "\n",
              "  const cancel = document.createElement('button');\n",
              "  inputElement.parentElement.appendChild(cancel);\n",
              "  cancel.textContent = 'Cancel upload';\n",
              "  const cancelPromise = new Promise((resolve) => {\n",
              "    cancel.onclick = () => {\n",
              "      resolve(null);\n",
              "    };\n",
              "  });\n",
              "\n",
              "  // Wait for the user to pick the files.\n",
              "  const files = yield {\n",
              "    promise: Promise.race([pickedPromise, cancelPromise]),\n",
              "    response: {\n",
              "      action: 'starting',\n",
              "    }\n",
              "  };\n",
              "\n",
              "  cancel.remove();\n",
              "\n",
              "  // Disable the input element since further picks are not allowed.\n",
              "  inputElement.disabled = true;\n",
              "\n",
              "  if (!files) {\n",
              "    return {\n",
              "      response: {\n",
              "        action: 'complete',\n",
              "      }\n",
              "    };\n",
              "  }\n",
              "\n",
              "  for (const file of files) {\n",
              "    const li = document.createElement('li');\n",
              "    li.append(span(file.name, {fontWeight: 'bold'}));\n",
              "    li.append(span(\n",
              "        `(${file.type || 'n/a'}) - ${file.size} bytes, ` +\n",
              "        `last modified: ${\n",
              "            file.lastModifiedDate ? file.lastModifiedDate.toLocaleDateString() :\n",
              "                                    'n/a'} - `));\n",
              "    const percent = span('0% done');\n",
              "    li.appendChild(percent);\n",
              "\n",
              "    outputElement.appendChild(li);\n",
              "\n",
              "    const fileDataPromise = new Promise((resolve) => {\n",
              "      const reader = new FileReader();\n",
              "      reader.onload = (e) => {\n",
              "        resolve(e.target.result);\n",
              "      };\n",
              "      reader.readAsArrayBuffer(file);\n",
              "    });\n",
              "    // Wait for the data to be ready.\n",
              "    let fileData = yield {\n",
              "      promise: fileDataPromise,\n",
              "      response: {\n",
              "        action: 'continue',\n",
              "      }\n",
              "    };\n",
              "\n",
              "    // Use a chunked sending to avoid message size limits. See b/62115660.\n",
              "    let position = 0;\n",
              "    do {\n",
              "      const length = Math.min(fileData.byteLength - position, MAX_PAYLOAD_SIZE);\n",
              "      const chunk = new Uint8Array(fileData, position, length);\n",
              "      position += length;\n",
              "\n",
              "      const base64 = btoa(String.fromCharCode.apply(null, chunk));\n",
              "      yield {\n",
              "        response: {\n",
              "          action: 'append',\n",
              "          file: file.name,\n",
              "          data: base64,\n",
              "        },\n",
              "      };\n",
              "\n",
              "      let percentDone = fileData.byteLength === 0 ?\n",
              "          100 :\n",
              "          Math.round((position / fileData.byteLength) * 100);\n",
              "      percent.textContent = `${percentDone}% done`;\n",
              "\n",
              "    } while (position < fileData.byteLength);\n",
              "  }\n",
              "\n",
              "  // All done.\n",
              "  yield {\n",
              "    response: {\n",
              "      action: 'complete',\n",
              "    }\n",
              "  };\n",
              "}\n",
              "\n",
              "scope.google = scope.google || {};\n",
              "scope.google.colab = scope.google.colab || {};\n",
              "scope.google.colab._files = {\n",
              "  _uploadFiles,\n",
              "  _uploadFilesContinue,\n",
              "};\n",
              "})(self);\n",
              "</script> "
            ]
          },
          "metadata": {}
        },
        {
          "output_type": "stream",
          "name": "stdout",
          "text": [
            "Saving SPAM text message 20170820 - Data.csv to SPAM text message 20170820 - Data.csv\n"
          ]
        }
      ],
      "source": [
        "from google.colab import files\n",
        "uploaded = files.upload()"
      ]
    },
    {
      "cell_type": "code",
      "source": [
        "import pandas as pd\n",
        "import numpy as np\n",
        "import matplotlib.pyplot as plt\n",
        "%matplotlib inline"
      ],
      "metadata": {
        "id": "Epm045rwe7Sm"
      },
      "execution_count": null,
      "outputs": []
    },
    {
      "cell_type": "code",
      "source": [
        "data = pd.read_csv(\"/content/SPAM text message 20170820 - Data.csv\")"
      ],
      "metadata": {
        "id": "fX5Ome3ffRs4"
      },
      "execution_count": null,
      "outputs": []
    },
    {
      "cell_type": "code",
      "source": [
        "data.head()"
      ],
      "metadata": {
        "colab": {
          "base_uri": "https://localhost:8080/",
          "height": 206
        },
        "id": "2DafdrQ1fcST",
        "outputId": "780eef62-3779-4838-dff3-77092e4796d1"
      },
      "execution_count": null,
      "outputs": [
        {
          "output_type": "execute_result",
          "data": {
            "text/plain": [
              "  Category                                            Message\n",
              "0      ham  Go until jurong point, crazy.. Available only ...\n",
              "1      ham                      Ok lar... Joking wif u oni...\n",
              "2     spam  Free entry in 2 a wkly comp to win FA Cup fina...\n",
              "3      ham  U dun say so early hor... U c already then say...\n",
              "4      ham  Nah I don't think he goes to usf, he lives aro..."
            ],
            "text/html": [
              "\n",
              "  <div id=\"df-03f590cb-57b8-46ce-a4e3-8bf8d697278e\">\n",
              "    <div class=\"colab-df-container\">\n",
              "      <div>\n",
              "<style scoped>\n",
              "    .dataframe tbody tr th:only-of-type {\n",
              "        vertical-align: middle;\n",
              "    }\n",
              "\n",
              "    .dataframe tbody tr th {\n",
              "        vertical-align: top;\n",
              "    }\n",
              "\n",
              "    .dataframe thead th {\n",
              "        text-align: right;\n",
              "    }\n",
              "</style>\n",
              "<table border=\"1\" class=\"dataframe\">\n",
              "  <thead>\n",
              "    <tr style=\"text-align: right;\">\n",
              "      <th></th>\n",
              "      <th>Category</th>\n",
              "      <th>Message</th>\n",
              "    </tr>\n",
              "  </thead>\n",
              "  <tbody>\n",
              "    <tr>\n",
              "      <th>0</th>\n",
              "      <td>ham</td>\n",
              "      <td>Go until jurong point, crazy.. Available only ...</td>\n",
              "    </tr>\n",
              "    <tr>\n",
              "      <th>1</th>\n",
              "      <td>ham</td>\n",
              "      <td>Ok lar... Joking wif u oni...</td>\n",
              "    </tr>\n",
              "    <tr>\n",
              "      <th>2</th>\n",
              "      <td>spam</td>\n",
              "      <td>Free entry in 2 a wkly comp to win FA Cup fina...</td>\n",
              "    </tr>\n",
              "    <tr>\n",
              "      <th>3</th>\n",
              "      <td>ham</td>\n",
              "      <td>U dun say so early hor... U c already then say...</td>\n",
              "    </tr>\n",
              "    <tr>\n",
              "      <th>4</th>\n",
              "      <td>ham</td>\n",
              "      <td>Nah I don't think he goes to usf, he lives aro...</td>\n",
              "    </tr>\n",
              "  </tbody>\n",
              "</table>\n",
              "</div>\n",
              "      <button class=\"colab-df-convert\" onclick=\"convertToInteractive('df-03f590cb-57b8-46ce-a4e3-8bf8d697278e')\"\n",
              "              title=\"Convert this dataframe to an interactive table.\"\n",
              "              style=\"display:none;\">\n",
              "        \n",
              "  <svg xmlns=\"http://www.w3.org/2000/svg\" height=\"24px\"viewBox=\"0 0 24 24\"\n",
              "       width=\"24px\">\n",
              "    <path d=\"M0 0h24v24H0V0z\" fill=\"none\"/>\n",
              "    <path d=\"M18.56 5.44l.94 2.06.94-2.06 2.06-.94-2.06-.94-.94-2.06-.94 2.06-2.06.94zm-11 1L8.5 8.5l.94-2.06 2.06-.94-2.06-.94L8.5 2.5l-.94 2.06-2.06.94zm10 10l.94 2.06.94-2.06 2.06-.94-2.06-.94-.94-2.06-.94 2.06-2.06.94z\"/><path d=\"M17.41 7.96l-1.37-1.37c-.4-.4-.92-.59-1.43-.59-.52 0-1.04.2-1.43.59L10.3 9.45l-7.72 7.72c-.78.78-.78 2.05 0 2.83L4 21.41c.39.39.9.59 1.41.59.51 0 1.02-.2 1.41-.59l7.78-7.78 2.81-2.81c.8-.78.8-2.07 0-2.86zM5.41 20L4 18.59l7.72-7.72 1.47 1.35L5.41 20z\"/>\n",
              "  </svg>\n",
              "      </button>\n",
              "      \n",
              "  <style>\n",
              "    .colab-df-container {\n",
              "      display:flex;\n",
              "      flex-wrap:wrap;\n",
              "      gap: 12px;\n",
              "    }\n",
              "\n",
              "    .colab-df-convert {\n",
              "      background-color: #E8F0FE;\n",
              "      border: none;\n",
              "      border-radius: 50%;\n",
              "      cursor: pointer;\n",
              "      display: none;\n",
              "      fill: #1967D2;\n",
              "      height: 32px;\n",
              "      padding: 0 0 0 0;\n",
              "      width: 32px;\n",
              "    }\n",
              "\n",
              "    .colab-df-convert:hover {\n",
              "      background-color: #E2EBFA;\n",
              "      box-shadow: 0px 1px 2px rgba(60, 64, 67, 0.3), 0px 1px 3px 1px rgba(60, 64, 67, 0.15);\n",
              "      fill: #174EA6;\n",
              "    }\n",
              "\n",
              "    [theme=dark] .colab-df-convert {\n",
              "      background-color: #3B4455;\n",
              "      fill: #D2E3FC;\n",
              "    }\n",
              "\n",
              "    [theme=dark] .colab-df-convert:hover {\n",
              "      background-color: #434B5C;\n",
              "      box-shadow: 0px 1px 3px 1px rgba(0, 0, 0, 0.15);\n",
              "      filter: drop-shadow(0px 1px 2px rgba(0, 0, 0, 0.3));\n",
              "      fill: #FFFFFF;\n",
              "    }\n",
              "  </style>\n",
              "\n",
              "      <script>\n",
              "        const buttonEl =\n",
              "          document.querySelector('#df-03f590cb-57b8-46ce-a4e3-8bf8d697278e button.colab-df-convert');\n",
              "        buttonEl.style.display =\n",
              "          google.colab.kernel.accessAllowed ? 'block' : 'none';\n",
              "\n",
              "        async function convertToInteractive(key) {\n",
              "          const element = document.querySelector('#df-03f590cb-57b8-46ce-a4e3-8bf8d697278e');\n",
              "          const dataTable =\n",
              "            await google.colab.kernel.invokeFunction('convertToInteractive',\n",
              "                                                     [key], {});\n",
              "          if (!dataTable) return;\n",
              "\n",
              "          const docLinkHtml = 'Like what you see? Visit the ' +\n",
              "            '<a target=\"_blank\" href=https://colab.research.google.com/notebooks/data_table.ipynb>data table notebook</a>'\n",
              "            + ' to learn more about interactive tables.';\n",
              "          element.innerHTML = '';\n",
              "          dataTable['output_type'] = 'display_data';\n",
              "          await google.colab.output.renderOutput(dataTable, element);\n",
              "          const docLink = document.createElement('div');\n",
              "          docLink.innerHTML = docLinkHtml;\n",
              "          element.appendChild(docLink);\n",
              "        }\n",
              "      </script>\n",
              "    </div>\n",
              "  </div>\n",
              "  "
            ]
          },
          "metadata": {},
          "execution_count": 4
        }
      ]
    },
    {
      "cell_type": "code",
      "source": [
        "print(\"type of text_train: \", type(data['Message']))"
      ],
      "metadata": {
        "colab": {
          "base_uri": "https://localhost:8080/"
        },
        "id": "g5fNKsTVfl_U",
        "outputId": "efd82566-9625-4fe0-fdcc-5f48bfa44dfd"
      },
      "execution_count": null,
      "outputs": [
        {
          "output_type": "stream",
          "name": "stdout",
          "text": [
            "type of text_train:  <class 'pandas.core.series.Series'>\n"
          ]
        }
      ]
    },
    {
      "cell_type": "code",
      "source": [
        "texts = []\n",
        "labels = []\n",
        "for i, label in enumerate(data['Category']):\n",
        "    texts.append(data['Message'][i])\n",
        "    if label == 'ham':\n",
        "        labels.append(0)\n",
        "    else:\n",
        "        labels.append(1)"
      ],
      "metadata": {
        "id": "ylDB_3Qgft6k"
      },
      "execution_count": null,
      "outputs": []
    },
    {
      "cell_type": "code",
      "source": [
        "texts = np.asarray(texts)\n",
        "labels = np.asarray(labels)\n",
        "print(\"number of texts :\" , len(texts))\n",
        "print(\"number of labels: \", len(labels))"
      ],
      "metadata": {
        "colab": {
          "base_uri": "https://localhost:8080/"
        },
        "id": "VnfNhS22f61K",
        "outputId": "85097b44-64be-457a-ac7b-e8236804c6fc"
      },
      "execution_count": null,
      "outputs": [
        {
          "output_type": "stream",
          "name": "stdout",
          "text": [
            "number of texts : 5572\n",
            "number of labels:  5572\n"
          ]
        }
      ]
    },
    {
      "cell_type": "code",
      "source": [
        "print(texts[0])"
      ],
      "metadata": {
        "colab": {
          "base_uri": "https://localhost:8080/"
        },
        "id": "BtCz5--1f_HG",
        "outputId": "a430cb9a-9826-4fb6-8b00-4488d9acb637"
      },
      "execution_count": null,
      "outputs": [
        {
          "output_type": "stream",
          "name": "stdout",
          "text": [
            "Go until jurong point, crazy.. Available only in bugis n great world la e buffet... Cine there got amore wat...\n"
          ]
        }
      ]
    },
    {
      "cell_type": "code",
      "source": [
        "print(np.unique(labels))\n",
        "print(np.bincount(labels))"
      ],
      "metadata": {
        "colab": {
          "base_uri": "https://localhost:8080/"
        },
        "id": "46qgcI4GgFaJ",
        "outputId": "0764e3e5-a059-49f4-c61e-a176c3d229fb"
      },
      "execution_count": null,
      "outputs": [
        {
          "output_type": "stream",
          "name": "stdout",
          "text": [
            "[0 1]\n",
            "[4825  747]\n"
          ]
        }
      ]
    },
    {
      "cell_type": "code",
      "source": [
        "np.random.seed(42)\n",
        "# shuffle data\n",
        "indices = np.arange(data.shape[0])\n",
        "np.random.shuffle(indices)\n",
        "texts = texts[indices]\n",
        "labels = labels[indices]\n",
        "\n",
        "# we will use 80% of data as training, 20% as validation data\n",
        "training_samples = int(5572 * .8)\n",
        "validation_samples = int(5572 - training_samples)\n",
        "# sanity check\n",
        "print(len(texts) == (training_samples + validation_samples))\n",
        "print(\"The number of training {0}, validation {1} \".format(training_samples, validation_samples))\n",
        "\n",
        "texts_train = texts[:training_samples]\n",
        "y_train = labels[:training_samples]\n",
        "texts_test = texts[training_samples:]\n",
        "y_test = labels[training_samples:]"
      ],
      "metadata": {
        "colab": {
          "base_uri": "https://localhost:8080/"
        },
        "id": "B1LXrvuHgYV8",
        "outputId": "57ed0e72-ed99-4112-b598-bddc39d823f1"
      },
      "execution_count": null,
      "outputs": [
        {
          "output_type": "stream",
          "name": "stdout",
          "text": [
            "True\n",
            "The number of training 4457, validation 1115 \n"
          ]
        }
      ]
    },
    {
      "cell_type": "code",
      "source": [
        "from sklearn.feature_extraction.text import CountVectorizer\n",
        "vect = CountVectorizer().fit(texts_train)\n",
        "X_train = vect.transform(texts_train)\n",
        "print(repr(X_train))"
      ],
      "metadata": {
        "colab": {
          "base_uri": "https://localhost:8080/"
        },
        "id": "XWcf-NAVgZ_g",
        "outputId": "d668c1eb-a7ca-45a7-9ebe-cf1862c55a57"
      },
      "execution_count": null,
      "outputs": [
        {
          "output_type": "stream",
          "name": "stdout",
          "text": [
            "<4457x7773 sparse matrix of type '<class 'numpy.int64'>'\n",
            "\twith 59237 stored elements in Compressed Sparse Row format>\n"
          ]
        }
      ]
    },
    {
      "cell_type": "code",
      "source": [
        "X_train.shape\n",
        "X_test = vect.transform(texts_test)\n",
        "np.bincount(y_train)"
      ],
      "metadata": {
        "colab": {
          "base_uri": "https://localhost:8080/"
        },
        "id": "79GOsAPVhNQa",
        "outputId": "d120a6b3-f45d-43e9-dd3b-d2e7a40f87cf"
      },
      "execution_count": null,
      "outputs": [
        {
          "output_type": "execute_result",
          "data": {
            "text/plain": [
              "array([3864,  593])"
            ]
          },
          "metadata": {},
          "execution_count": 12
        }
      ]
    },
    {
      "cell_type": "code",
      "source": [
        "from sklearn.pipeline import make_pipeline\n",
        "from sklearn.model_selection import GridSearchCV\n",
        "from sklearn.metrics import confusion_matrix\n",
        "from sklearn.linear_model import LogisticRegression\n",
        "\n",
        "logreg = LogisticRegression()\n",
        "param_grid = {'C': [0.01, 0.1, 1, 10, 100]}\n",
        "\n",
        "grid = GridSearchCV(logreg, param_grid, cv=5)\n",
        "logreg_train = grid.fit(X_train, y_train)\n",
        "print(grid.best_estimator_)"
      ],
      "metadata": {
        "colab": {
          "base_uri": "https://localhost:8080/"
        },
        "id": "NPsA9nADhVmC",
        "outputId": "04f16acf-b4ee-447d-c197-b1c7b1ca666d"
      },
      "execution_count": null,
      "outputs": [
        {
          "output_type": "stream",
          "name": "stdout",
          "text": [
            "LogisticRegression(C=100)\n"
          ]
        }
      ]
    },
    {
      "cell_type": "code",
      "source": [
        "# logreg = LogisticRegression(C=0.1).fit(X_train, y_train)\n",
        "pred_logreg = logreg_train.predict(X_test)\n",
        "print(\"accuracy is: \", grid.score(X_test, y_test))"
      ],
      "metadata": {
        "colab": {
          "base_uri": "https://localhost:8080/"
        },
        "id": "e4yWC1H6hdzj",
        "outputId": "15402aca-b932-4285-8db1-44a5f5addcc7"
      },
      "execution_count": null,
      "outputs": [
        {
          "output_type": "stream",
          "name": "stdout",
          "text": [
            "accuracy is:  0.9820627802690582\n"
          ]
        }
      ]
    },
    {
      "cell_type": "code",
      "source": [
        "confusion = confusion_matrix(y_test, pred_logreg)\n",
        "print(confusion)"
      ],
      "metadata": {
        "colab": {
          "base_uri": "https://localhost:8080/"
        },
        "id": "9Ed6F8POhmXJ",
        "outputId": "5a63ba50-924e-4e32-d28c-6d89c816055e"
      },
      "execution_count": null,
      "outputs": [
        {
          "output_type": "stream",
          "name": "stdout",
          "text": [
            "[[958   3]\n",
            " [ 17 137]]\n"
          ]
        }
      ]
    },
    {
      "cell_type": "code",
      "source": [
        "features_names = vect.get_feature_names()\n",
        "print(len(features_names))\n",
        "print(\"\\n\")\n",
        "# print first 20 features\n",
        "print(features_names[:20])\n",
        "print(\"\\n\")\n",
        "# print last 20 features\n",
        "print(features_names[-20:])\n",
        "print(\"\\n\")\n",
        "# print every 50th word\n",
        "print(features_names[::400])"
      ],
      "metadata": {
        "colab": {
          "base_uri": "https://localhost:8080/"
        },
        "id": "zApNwsCDhtKg",
        "outputId": "7f967531-2583-45f2-e908-c5820c54d3df"
      },
      "execution_count": null,
      "outputs": [
        {
          "output_type": "stream",
          "name": "stdout",
          "text": [
            "7773\n",
            "\n",
            "\n",
            "['00', '000', '008704050406', '0121', '01223585236', '01223585334', '0125698789', '02', '0207', '02072069400', '02073162414', '02085076972', '021', '03', '04', '0430', '05', '050703', '0578', '06']\n",
            "\n",
            "\n",
            "['yun', 'yunny', 'yuo', 'yuou', 'yup', 'yupz', 'zac', 'zaher', 'zealand', 'zebra', 'zed', 'zeros', 'zindgi', 'zoe', 'zogtorius', 'zoom', 'zouk', 'zyada', 'ú1', '〨ud']\n",
            "\n",
            "\n",
            "['00', '2morrow', 'ad', 'bags', 'bye', 'convey', 'dogwood', 'fatty', 'goodnite', 'icicibank', 'lacking', 'matrix3', 'nigro', 'phd', 'rates', 'search', 'spell', 'tenants', 'unknown', 'woman']\n"
          ]
        },
        {
          "output_type": "stream",
          "name": "stderr",
          "text": [
            "/usr/local/lib/python3.7/dist-packages/sklearn/utils/deprecation.py:87: FutureWarning: Function get_feature_names is deprecated; get_feature_names is deprecated in 1.0 and will be removed in 1.2. Please use get_feature_names_out instead.\n",
            "  warnings.warn(msg, category=FutureWarning)\n"
          ]
        }
      ]
    },
    {
      "cell_type": "code",
      "source": [
        "# min_df controls this condition(min_df=3 means pick up words which appear\n",
        "# at least 3 documents)\n",
        "vect = CountVectorizer(min_df=3).fit(texts_train)\n",
        "X_train = vect.transform(texts_train)\n",
        "X_test = vect.transform(texts_test)\n",
        "print(repr(X_train))"
      ],
      "metadata": {
        "colab": {
          "base_uri": "https://localhost:8080/"
        },
        "id": "TGB7fDpThuuI",
        "outputId": "1fc2c871-88b2-4996-99fd-2d522365a750"
      },
      "execution_count": null,
      "outputs": [
        {
          "output_type": "stream",
          "name": "stdout",
          "text": [
            "<4457x2400 sparse matrix of type '<class 'numpy.int64'>'\n",
            "\twith 52624 stored elements in Compressed Sparse Row format>\n"
          ]
        }
      ]
    },
    {
      "cell_type": "code",
      "source": [
        "features_names = vect.get_feature_names()\n",
        "print(len(features_names))\n",
        "print(\"\\n\")\n",
        "# print first 20 features\n",
        "print(features_names[:20])\n",
        "print(\"\\n\")\n",
        "# print last 20 features\n",
        "print(features_names[-20:])\n",
        "print(\"\\n\")\n",
        "# print every 50th word\n",
        "print(features_names[::400])"
      ],
      "metadata": {
        "colab": {
          "base_uri": "https://localhost:8080/"
        },
        "id": "4AIwpMgwh0R6",
        "outputId": "f8004aff-f61d-4b76-865e-a7a4592c5caf"
      },
      "execution_count": null,
      "outputs": [
        {
          "output_type": "stream",
          "name": "stdout",
          "text": [
            "2400\n",
            "\n",
            "\n",
            "['00', '000', '02', '03', '04', '05', '06', '07xxxxxxxxx', '0800', '08000839402', '08000930705', '08000938767', '08001950382', '08002986906', '0808', '0845', '08452810073', '0870', '08701417012', '08707509020']\n",
            "\n",
            "\n",
            "['yer', 'yes', 'yest', 'yesterday', 'yet', 'yetunde', 'yijue', 'ym', 'yo', 'yoga', 'yogasana', 'you', 'your', 'yours', 'yourself', 'yr', 'yrs', 'yummy', 'yup', 'zed']\n",
            "\n",
            "\n",
            "['00', 'budget', 'files', 'lets', 'pobox', 'sunny']\n"
          ]
        }
      ]
    },
    {
      "cell_type": "code",
      "source": [
        "logreg = LogisticRegression()\n",
        "param_grid = {'C': [0.01, 0.1, 1, 10, 100]}\n",
        "\n",
        "grid = GridSearchCV(logreg, param_grid, cv=5)\n",
        "logreg_train = grid.fit(X_train, y_train)\n",
        "# logreg = LogisticRegression(C=0.1).fit(X_train, y_train)\n",
        "pred_logreg = logreg_train.predict(X_test)\n",
        "print(\"accuracy is: \", grid.score(X_test, y_test))"
      ],
      "metadata": {
        "colab": {
          "base_uri": "https://localhost:8080/"
        },
        "id": "a4a-jMuUh3Iq",
        "outputId": "3264c5dc-a9b0-4cbe-e54a-02a237c78c1b"
      },
      "execution_count": null,
      "outputs": [
        {
          "output_type": "stream",
          "name": "stdout",
          "text": [
            "accuracy is:  0.9802690582959641\n"
          ]
        }
      ]
    },
    {
      "cell_type": "code",
      "source": [
        "confusion = confusion_matrix(y_test, pred_logreg)\n",
        "print(confusion)"
      ],
      "metadata": {
        "colab": {
          "base_uri": "https://localhost:8080/"
        },
        "id": "YqLrSsV7h-Pb",
        "outputId": "d9ab80d6-612a-4792-abf4-27b4724b53bc"
      },
      "execution_count": null,
      "outputs": [
        {
          "output_type": "stream",
          "name": "stdout",
          "text": [
            "[[956   5]\n",
            " [ 17 137]]\n"
          ]
        }
      ]
    },
    {
      "cell_type": "code",
      "source": [
        "from sklearn.feature_extraction.text import ENGLISH_STOP_WORDS\n",
        "print(\"Number of stop words is :\", len(ENGLISH_STOP_WORDS), \"\\n\")\n",
        "print(\"Examples: \", list(ENGLISH_STOP_WORDS)[::10])"
      ],
      "metadata": {
        "colab": {
          "base_uri": "https://localhost:8080/"
        },
        "id": "iKdxtHEHh_o_",
        "outputId": "4fc70ea0-28fb-4106-ee41-c27b648ffe13"
      },
      "execution_count": null,
      "outputs": [
        {
          "output_type": "stream",
          "name": "stdout",
          "text": [
            "Number of stop words is : 318 \n",
            "\n",
            "Examples:  ['each', 'had', 'meanwhile', 'am', 'who', 'hereupon', 'is', 'full', 'down', 'etc', 'his', 'sometime', 'yours', 'in', 'anyway', 'becomes', 'seemed', 'ltd', 'how', 'then', 'made', 'there', 'con', 'anyone', 'found', 'because', 'perhaps', 'cant', 'himself', 'during', 'out', 'most']\n"
          ]
        }
      ]
    },
    {
      "cell_type": "code",
      "source": [
        "vect = CountVectorizer(min_df=3, stop_words='english').fit(texts_train)\n",
        "X_train = vect.transform(texts_train)\n",
        "X_test = vect.transform(texts_test)\n",
        "print(repr(X_train))"
      ],
      "metadata": {
        "colab": {
          "base_uri": "https://localhost:8080/"
        },
        "id": "cRaS8RuJiDpl",
        "outputId": "e40d2f8f-8b85-4065-e375-0db07d41a2d6"
      },
      "execution_count": null,
      "outputs": [
        {
          "output_type": "stream",
          "name": "stdout",
          "text": [
            "<4457x2175 sparse matrix of type '<class 'numpy.int64'>'\n",
            "\twith 28170 stored elements in Compressed Sparse Row format>\n"
          ]
        }
      ]
    },
    {
      "cell_type": "code",
      "source": [
        "logreg = LogisticRegression()\n",
        "param_grid = {'C': [0.01, 0.1, 1, 10, 100]}\n",
        "\n",
        "grid = GridSearchCV(logreg, param_grid, cv=5)\n",
        "logreg_train = grid.fit(X_train, y_train)"
      ],
      "metadata": {
        "id": "1Qi4Tm8jiGcx"
      },
      "execution_count": null,
      "outputs": []
    },
    {
      "cell_type": "code",
      "source": [
        "# logreg = LogisticRegression(C=0.1).fit(X_train, y_train)\n",
        "pred_logreg = logreg_train.predict(X_test)\n",
        "print(\"accuracy is: \", grid.score(X_test, y_test))\n",
        "confusion = confusion_matrix(y_test, pred_logreg)\n",
        "print(\"confusion matrix \\n\", confusion)"
      ],
      "metadata": {
        "colab": {
          "base_uri": "https://localhost:8080/"
        },
        "id": "mTwzAk65iMs-",
        "outputId": "50b857de-26f2-4bdb-9072-0c3df33ae89c"
      },
      "execution_count": null,
      "outputs": [
        {
          "output_type": "stream",
          "name": "stdout",
          "text": [
            "accuracy is:  0.9829596412556054\n",
            "confusion matrix \n",
            " [[960   1]\n",
            " [ 18 136]]\n"
          ]
        }
      ]
    },
    {
      "cell_type": "code",
      "source": [
        "from sklearn.feature_extraction.text import TfidfVectorizer\n",
        "from sklearn.pipeline import make_pipeline"
      ],
      "metadata": {
        "id": "NCZtes3niOQO"
      },
      "execution_count": null,
      "outputs": []
    },
    {
      "cell_type": "code",
      "source": [
        "logreg = LogisticRegression()\n",
        "pipe = make_pipeline(TfidfVectorizer(min_df=3, norm=None, stop_words='english'), logreg)\n",
        "param_grid = {'logisticregression__C': [0.001, 0.01, 0.1, 1, 10]}\n",
        "\n",
        "grid = GridSearchCV(pipe, param_grid, cv=5)\n",
        "logreg_train = grid.fit(texts_train, y_train)\n",
        "logreg.get_params().keys()"
      ],
      "metadata": {
        "colab": {
          "base_uri": "https://localhost:8080/"
        },
        "id": "VKfbeIl6iRqE",
        "outputId": "736e5c24-dd82-4f70-e58f-21ea30e1ee0d"
      },
      "execution_count": null,
      "outputs": [
        {
          "output_type": "execute_result",
          "data": {
            "text/plain": [
              "dict_keys(['C', 'class_weight', 'dual', 'fit_intercept', 'intercept_scaling', 'l1_ratio', 'max_iter', 'multi_class', 'n_jobs', 'penalty', 'random_state', 'solver', 'tol', 'verbose', 'warm_start'])"
            ]
          },
          "metadata": {},
          "execution_count": 26
        }
      ]
    },
    {
      "cell_type": "code",
      "source": [
        "print(grid.best_estimator_)"
      ],
      "metadata": {
        "colab": {
          "base_uri": "https://localhost:8080/"
        },
        "id": "Gd9YP980iUx4",
        "outputId": "3f39962f-cf75-4730-f0fd-8aa031ab18c7"
      },
      "execution_count": null,
      "outputs": [
        {
          "output_type": "stream",
          "name": "stdout",
          "text": [
            "Pipeline(steps=[('tfidfvectorizer',\n",
            "                 TfidfVectorizer(min_df=3, norm=None, stop_words='english')),\n",
            "                ('logisticregression', LogisticRegression(C=0.1))])\n"
          ]
        }
      ]
    },
    {
      "cell_type": "code",
      "source": [
        "# logreg = LogisticRegression(C=0.1).fit(X_train, y_train)\n",
        "pred_logreg = logreg_train.predict(texts_test)\n",
        "print(\"accuracy is: \", grid.score(texts_test, y_test))\n",
        "confusion = confusion_matrix(y_test, pred_logreg)\n",
        "print(\"confusion matrix \\n\", confusion)"
      ],
      "metadata": {
        "colab": {
          "base_uri": "https://localhost:8080/"
        },
        "id": "3WR49sAKiajR",
        "outputId": "dda9ddee-740f-43fd-8480-5f829423fe65"
      },
      "execution_count": null,
      "outputs": [
        {
          "output_type": "stream",
          "name": "stdout",
          "text": [
            "accuracy is:  0.9820627802690582\n",
            "confusion matrix \n",
            " [[960   1]\n",
            " [ 19 135]]\n"
          ]
        }
      ]
    },
    {
      "cell_type": "code",
      "source": [
        "vectorizer = grid.best_estimator_.named_steps[\"tfidfvectorizer\"]\n",
        "X_train = vectorizer.transform(texts_train)\n",
        "max_value = X_train.max(axis=0).toarray().ravel()\n",
        "sorted_by_tfidf = max_value.argsort()\n",
        "\n",
        "feature_names = np.array(vectorizer.get_feature_names())\n",
        "\n",
        "print(\"features with lowest tfidf\")\n",
        "print(feature_names[sorted_by_tfidf[:20]], '\\n')\n",
        "\n",
        "print(\"featues with hightest tfidf\")\n",
        "print(feature_names[sorted_by_tfidf[-20:]])"
      ],
      "metadata": {
        "colab": {
          "base_uri": "https://localhost:8080/"
        },
        "id": "7h7vfPXsibxe",
        "outputId": "7edd072b-dbf3-48d8-9a34-3d34bc7a29f7"
      },
      "execution_count": null,
      "outputs": [
        {
          "output_type": "stream",
          "name": "stdout",
          "text": [
            "features with lowest tfidf\n",
            "['yes' 'won' 'www' 'doing' 'care' 'pick' 'lol' 'urgent' 'contact' '150p'\n",
            " 'place' 'thing' '16' 'customer' '18' 'try' 'guaranteed' 'holiday' 'mins'\n",
            " 'bit'] \n",
            "\n",
            "featues with hightest tfidf\n",
            "['hmv' 'god' 'charity' 'malaria' 'police' 'gal' 'day' 'boy' 'xmas' 'needs'\n",
            " 'lose' 'smile' 'brings' 'simple' 'hi' 'missing' 'face' 'gt' 'lt' 'happy']\n"
          ]
        },
        {
          "output_type": "stream",
          "name": "stderr",
          "text": [
            "/usr/local/lib/python3.7/dist-packages/sklearn/utils/deprecation.py:87: FutureWarning: Function get_feature_names is deprecated; get_feature_names is deprecated in 1.0 and will be removed in 1.2. Please use get_feature_names_out instead.\n",
            "  warnings.warn(msg, category=FutureWarning)\n"
          ]
        }
      ]
    },
    {
      "cell_type": "code",
      "source": [
        "import mglearn \n",
        "mglearn.tools.visualize_coefficients(grid.best_estimator_.named_steps['logisticregression'].coef_, \n",
        "                                   feature_names, n_top_features=40)\n",
        "plt.title(\"tfidf-cofficient\")"
      ],
      "metadata": {
        "colab": {
          "base_uri": "https://localhost:8080/",
          "height": 343
        },
        "id": "hqp6GhknipbH",
        "outputId": "f39f71e5-516a-4346-b867-aa42a39074ef"
      },
      "execution_count": null,
      "outputs": [
        {
          "output_type": "execute_result",
          "data": {
            "text/plain": [
              "Text(0.5, 1.0, 'tfidf-cofficient')"
            ]
          },
          "metadata": {},
          "execution_count": 35
        },
        {
          "output_type": "display_data",
          "data": {
            "text/plain": [
              "<Figure size 1080x360 with 1 Axes>"
            ],
            "image/png": "[encoded data removed]"
          },
          "metadata": {
            "needs_background": "light"
          }
        }
      ]
    },
    {
      "cell_type": "code",
      "source": [
        "pipe = make_pipeline(TfidfVectorizer(min_df=3, stop_words='english'), logreg)\n",
        "param_grid = {'logisticregression__C': [0.001, 0.01, 0.1, 1, 10, 100], \n",
        "              'tfidfvectorizer__ngram_range': [(1,1), (1,2), (1,3)]}\n",
        "\n",
        "grid = GridSearchCV(pipe, param_grid, cv=5)\n",
        "logreg_train = grid.fit(texts_train, y_train)\n",
        "\n",
        "\n",
        "pred_logreg = logreg_train.predict(texts_test)\n",
        "print(\"accuracy is: \", grid.score(texts_test, y_test))\n",
        "confusion = confusion_matrix(y_test, pred_logreg)\n",
        "print(\"confusion matrix \\n\", confusion)"
      ],
      "metadata": {
        "colab": {
          "base_uri": "https://localhost:8080/"
        },
        "id": "8botsaq-jJha",
        "outputId": "7cecee26-c991-4d6f-e8a0-9b888bc33cbb"
      },
      "execution_count": null,
      "outputs": [
        {
          "output_type": "stream",
          "name": "stderr",
          "text": [
            "/usr/local/lib/python3.7/dist-packages/sklearn/linear_model/_logistic.py:818: ConvergenceWarning: lbfgs failed to converge (status=1):\n",
            "STOP: TOTAL NO. of ITERATIONS REACHED LIMIT.\n",
            "\n",
            "Increase the number of iterations (max_iter) or scale the data as shown in:\n",
            "    https://scikit-learn.org/stable/modules/preprocessing.html\n",
            "Please also refer to the documentation for alternative solver options:\n",
            "    https://scikit-learn.org/stable/modules/linear_model.html#logistic-regression\n",
            "  extra_warning_msg=_LOGISTIC_SOLVER_CONVERGENCE_MSG,\n",
            "/usr/local/lib/python3.7/dist-packages/sklearn/linear_model/_logistic.py:818: ConvergenceWarning: lbfgs failed to converge (status=1):\n",
            "STOP: TOTAL NO. of ITERATIONS REACHED LIMIT.\n",
            "\n",
            "Increase the number of iterations (max_iter) or scale the data as shown in:\n",
            "    https://scikit-learn.org/stable/modules/preprocessing.html\n",
            "Please also refer to the documentation for alternative solver options:\n",
            "    https://scikit-learn.org/stable/modules/linear_model.html#logistic-regression\n",
            "  extra_warning_msg=_LOGISTIC_SOLVER_CONVERGENCE_MSG,\n",
            "/usr/local/lib/python3.7/dist-packages/sklearn/linear_model/_logistic.py:818: ConvergenceWarning: lbfgs failed to converge (status=1):\n",
            "STOP: TOTAL NO. of ITERATIONS REACHED LIMIT.\n",
            "\n",
            "Increase the number of iterations (max_iter) or scale the data as shown in:\n",
            "    https://scikit-learn.org/stable/modules/preprocessing.html\n",
            "Please also refer to the documentation for alternative solver options:\n",
            "    https://scikit-learn.org/stable/modules/linear_model.html#logistic-regression\n",
            "  extra_warning_msg=_LOGISTIC_SOLVER_CONVERGENCE_MSG,\n",
            "/usr/local/lib/python3.7/dist-packages/sklearn/linear_model/_logistic.py:818: ConvergenceWarning: lbfgs failed to converge (status=1):\n",
            "STOP: TOTAL NO. of ITERATIONS REACHED LIMIT.\n",
            "\n",
            "Increase the number of iterations (max_iter) or scale the data as shown in:\n",
            "    https://scikit-learn.org/stable/modules/preprocessing.html\n",
            "Please also refer to the documentation for alternative solver options:\n",
            "    https://scikit-learn.org/stable/modules/linear_model.html#logistic-regression\n",
            "  extra_warning_msg=_LOGISTIC_SOLVER_CONVERGENCE_MSG,\n",
            "/usr/local/lib/python3.7/dist-packages/sklearn/linear_model/_logistic.py:818: ConvergenceWarning: lbfgs failed to converge (status=1):\n",
            "STOP: TOTAL NO. of ITERATIONS REACHED LIMIT.\n",
            "\n",
            "Increase the number of iterations (max_iter) or scale the data as shown in:\n",
            "    https://scikit-learn.org/stable/modules/preprocessing.html\n",
            "Please also refer to the documentation for alternative solver options:\n",
            "    https://scikit-learn.org/stable/modules/linear_model.html#logistic-regression\n",
            "  extra_warning_msg=_LOGISTIC_SOLVER_CONVERGENCE_MSG,\n",
            "/usr/local/lib/python3.7/dist-packages/sklearn/linear_model/_logistic.py:818: ConvergenceWarning: lbfgs failed to converge (status=1):\n",
            "STOP: TOTAL NO. of ITERATIONS REACHED LIMIT.\n",
            "\n",
            "Increase the number of iterations (max_iter) or scale the data as shown in:\n",
            "    https://scikit-learn.org/stable/modules/preprocessing.html\n",
            "Please also refer to the documentation for alternative solver options:\n",
            "    https://scikit-learn.org/stable/modules/linear_model.html#logistic-regression\n",
            "  extra_warning_msg=_LOGISTIC_SOLVER_CONVERGENCE_MSG,\n",
            "/usr/local/lib/python3.7/dist-packages/sklearn/linear_model/_logistic.py:818: ConvergenceWarning: lbfgs failed to converge (status=1):\n",
            "STOP: TOTAL NO. of ITERATIONS REACHED LIMIT.\n",
            "\n",
            "Increase the number of iterations (max_iter) or scale the data as shown in:\n",
            "    https://scikit-learn.org/stable/modules/preprocessing.html\n",
            "Please also refer to the documentation for alternative solver options:\n",
            "    https://scikit-learn.org/stable/modules/linear_model.html#logistic-regression\n",
            "  extra_warning_msg=_LOGISTIC_SOLVER_CONVERGENCE_MSG,\n",
            "/usr/local/lib/python3.7/dist-packages/sklearn/linear_model/_logistic.py:818: ConvergenceWarning: lbfgs failed to converge (status=1):\n",
            "STOP: TOTAL NO. of ITERATIONS REACHED LIMIT.\n",
            "\n",
            "Increase the number of iterations (max_iter) or scale the data as shown in:\n",
            "    https://scikit-learn.org/stable/modules/preprocessing.html\n",
            "Please also refer to the documentation for alternative solver options:\n",
            "    https://scikit-learn.org/stable/modules/linear_model.html#logistic-regression\n",
            "  extra_warning_msg=_LOGISTIC_SOLVER_CONVERGENCE_MSG,\n",
            "/usr/local/lib/python3.7/dist-packages/sklearn/linear_model/_logistic.py:818: ConvergenceWarning: lbfgs failed to converge (status=1):\n",
            "STOP: TOTAL NO. of ITERATIONS REACHED LIMIT.\n",
            "\n",
            "Increase the number of iterations (max_iter) or scale the data as shown in:\n",
            "    https://scikit-learn.org/stable/modules/preprocessing.html\n",
            "Please also refer to the documentation for alternative solver options:\n",
            "    https://scikit-learn.org/stable/modules/linear_model.html#logistic-regression\n",
            "  extra_warning_msg=_LOGISTIC_SOLVER_CONVERGENCE_MSG,\n"
          ]
        },
        {
          "output_type": "stream",
          "name": "stdout",
          "text": [
            "accuracy is:  0.9820627802690582\n",
            "confusion matrix \n",
            " [[958   3]\n",
            " [ 17 137]]\n"
          ]
        }
      ]
    },
    {
      "cell_type": "code",
      "source": [
        "print(grid.best_estimator_)"
      ],
      "metadata": {
        "colab": {
          "base_uri": "https://localhost:8080/"
        },
        "id": "3xx-vBWWjULl",
        "outputId": "92d23e0b-0aab-467d-d8d4-5db210a35bf0"
      },
      "execution_count": null,
      "outputs": [
        {
          "output_type": "stream",
          "name": "stdout",
          "text": [
            "Pipeline(steps=[('tfidfvectorizer',\n",
            "                 TfidfVectorizer(min_df=3, ngram_range=(1, 3),\n",
            "                                 stop_words='english')),\n",
            "                ('logisticregression', LogisticRegression(C=100))])\n"
          ]
        }
      ]
    },
    {
      "cell_type": "code",
      "source": [
        "scores = [s for s in pd.DataFrame(grid.cv_results_)['mean_test_score']]\n",
        "scores = np.array(scores).reshape(-1, 3).T\n",
        "\n",
        "heatmap = mglearn.tools.heatmap(scores, xlabel=\"C\", ylabel=\"ngram_range\", \n",
        "                                xticklabels=param_grid['logisticregression__C'], \n",
        "                                yticklabels=param_grid['tfidfvectorizer__ngram_range'], \n",
        "                                cmap='viridis', fmt=\"%.3f\")\n",
        "plt.colorbar(heatmap);"
      ],
      "metadata": {
        "colab": {
          "base_uri": "https://localhost:8080/",
          "height": 248
        },
        "id": "gKBWO4wyjfvQ",
        "outputId": "a39f0059-42b7-4420-bb6e-ef8adc07bef8"
      },
      "execution_count": null,
      "outputs": [
        {
          "output_type": "display_data",
          "data": {
            "text/plain": [
              "<Figure size 432x288 with 2 Axes>"
            ],
            "image/png": "[encoded data removed]"
          },
          "metadata": {
            "needs_background": "light"
          }
        }
      ]
    },
    {
      "cell_type": "code",
      "source": [
        "feature_names = np.array(grid.best_estimator_.named_steps['tfidfvectorizer'].get_feature_names())\n",
        "coef = grid.best_estimator_.named_steps['logisticregression'].coef_\n",
        "mglearn.tools.visualize_coefficients(coef,feature_names, n_top_features=40)\n",
        "plt.title(\"tfidf-cofficient\")"
      ],
      "metadata": {
        "colab": {
          "base_uri": "https://localhost:8080/",
          "height": 416
        },
        "id": "VUdT_90rrXZS",
        "outputId": "06eafb24-ebdd-4c5a-901b-8c6338692678"
      },
      "execution_count": null,
      "outputs": [
        {
          "output_type": "stream",
          "name": "stderr",
          "text": [
            "/usr/local/lib/python3.7/dist-packages/sklearn/utils/deprecation.py:87: FutureWarning: Function get_feature_names is deprecated; get_feature_names is deprecated in 1.0 and will be removed in 1.2. Please use get_feature_names_out instead.\n",
            "  warnings.warn(msg, category=FutureWarning)\n"
          ]
        },
        {
          "output_type": "execute_result",
          "data": {
            "text/plain": [
              "Text(0.5, 1.0, 'tfidf-cofficient')"
            ]
          },
          "metadata": {},
          "execution_count": 64
        },
        {
          "output_type": "display_data",
          "data": {
            "text/plain": [
              "<Figure size 1080x360 with 1 Axes>"
            ],
            "image/png": "[encoded data removed]"
          },
          "metadata": {
            "needs_background": "light"
          }
        }
      ]
    },
    {
      "cell_type": "code",
      "source": [
        "from keras.layers import SimpleRNN, Embedding, Dense, LSTM\n",
        "from keras.models import Sequential\n",
        "import seaborn as sns; sns.set()"
      ],
      "metadata": {
        "id": "XVI0zTXX0E_f"
      },
      "execution_count": null,
      "outputs": []
    },
    {
      "cell_type": "code",
      "source": [
        "from keras.layers import SimpleRNN, Embedding, Dense, LSTM\n",
        "from keras.models import Sequential\n",
        "\n",
        "from keras.preprocessing.text import Tokenizer\n",
        "from keras.preprocessing.sequence import pad_sequences\n",
        "\n",
        "# number of words used as features\n",
        "max_features = 10000\n",
        "# cut off the words after seeing 500 words in each document(email)\n",
        "maxlen = 500\n",
        "tokenizer = Tokenizer()\n",
        "tokenizer.fit_on_texts(texts)\n",
        "sequences = tokenizer.texts_to_sequences(texts)\n",
        "\n",
        "word_index = tokenizer.word_index\n",
        "print(\"Found {0} unique words: \".format(len(word_index)))\n",
        "\n",
        "data = pad_sequences(sequences, maxlen=maxlen)\n",
        "\n",
        "print(\"data shape: \", data.shape)\n",
        "\n",
        "np.random.seed(42)\n",
        "# shuffle data\n",
        "indices = np.arange(data.shape[0])\n",
        "np.random.shuffle(indices)\n",
        "data = data[indices]\n",
        "labels = labels[indices]\n",
        "\n",
        "\n",
        "texts_train = data[:training_samples]\n",
        "y_train = labels[:training_samples]\n",
        "texts_test = data[training_samples:]\n",
        "y_test = labels[training_samples:]\n"
      ],
      "metadata": {
        "colab": {
          "base_uri": "https://localhost:8080/"
        },
        "id": "5Bd81-7b0V1n",
        "outputId": "e4a9d91c-3cb3-4dbb-f397-92cbc8c60e56"
      },
      "execution_count": null,
      "outputs": [
        {
          "output_type": "stream",
          "name": "stdout",
          "text": [
            "Found 9004 unique words: \n",
            "data shape:  (5572, 500)\n"
          ]
        }
      ]
    },
    {
      "cell_type": "code",
      "source": [
        "model = Sequential()\n",
        "model.add(Embedding(max_features, 32))\n",
        "model.add(SimpleRNN(32))\n",
        "model.add(Dense(1, activation='sigmoid'))\n",
        "\n",
        "model.compile(optimizer='rmsprop', loss='binary_crossentropy', metrics=['acc'])\n",
        "history_rnn = model.fit(texts_train, y_train, epochs=10, batch_size=60, validation_split=0.2)"
      ],
      "metadata": {
        "colab": {
          "base_uri": "https://localhost:8080/"
        },
        "id": "WBaPwxfg0nb5",
        "outputId": "62d15e9f-98e5-4547-b654-57b41351cc3a"
      },
      "execution_count": null,
      "outputs": [
        {
          "output_type": "stream",
          "name": "stdout",
          "text": [
            "Epoch 1/10\n",
            "60/60 [==============================] - 11s 145ms/step - loss: 0.3066 - acc: 0.8999 - val_loss: 0.1502 - val_acc: 0.9675\n",
            "Epoch 2/10\n",
            "60/60 [==============================] - 8s 137ms/step - loss: 0.0956 - acc: 0.9770 - val_loss: 0.0953 - val_acc: 0.9720\n",
            "Epoch 3/10\n",
            "60/60 [==============================] - 8s 134ms/step - loss: 0.0506 - acc: 0.9882 - val_loss: 0.0685 - val_acc: 0.9776\n",
            "Epoch 4/10\n",
            "60/60 [==============================] - 8s 135ms/step - loss: 0.0284 - acc: 0.9933 - val_loss: 0.0708 - val_acc: 0.9787\n",
            "Epoch 5/10\n",
            "60/60 [==============================] - 8s 135ms/step - loss: 0.0186 - acc: 0.9952 - val_loss: 0.0701 - val_acc: 0.9798\n",
            "Epoch 6/10\n",
            "60/60 [==============================] - 8s 132ms/step - loss: 0.0127 - acc: 0.9972 - val_loss: 0.0845 - val_acc: 0.9765\n",
            "Epoch 7/10\n",
            "60/60 [==============================] - 8s 133ms/step - loss: 0.0415 - acc: 0.9849 - val_loss: 0.1987 - val_acc: 0.9372\n",
            "Epoch 8/10\n",
            "60/60 [==============================] - 8s 129ms/step - loss: 0.0361 - acc: 0.9877 - val_loss: 0.1319 - val_acc: 0.9585\n",
            "Epoch 9/10\n",
            "60/60 [==============================] - 8s 131ms/step - loss: 0.2549 - acc: 0.9161 - val_loss: 0.4053 - val_acc: 0.8666\n",
            "Epoch 10/10\n",
            "60/60 [==============================] - 9s 155ms/step - loss: 0.1252 - acc: 0.9518 - val_loss: 0.1001 - val_acc: 0.9675\n"
          ]
        }
      ]
    },
    {
      "cell_type": "code",
      "source": [
        "model = Sequential()\n",
        "model.add(Embedding(max_features, 32))\n",
        "model.add(SimpleRNN(32))\n",
        "model.add(Dense(1, activation='sigmoid'))\n",
        "\n",
        "model.compile(optimizer='rmsprop', loss='binary_crossentropy', metrics=['acc'])\n",
        "history_rnn = model.fit(texts_train, y_train, epochs=10, batch_size=60, validation_split=0.2)"
      ],
      "metadata": {
        "colab": {
          "base_uri": "https://localhost:8080/"
        },
        "id": "vuQFD-am2UZF",
        "outputId": "70ebe6e8-1df4-421c-8bdc-805a467927ce"
      },
      "execution_count": null,
      "outputs": [
        {
          "output_type": "stream",
          "name": "stdout",
          "text": [
            "Epoch 1/10\n",
            "60/60 [==============================] - 12s 177ms/step - loss: 0.2881 - acc: 0.9060 - val_loss: 0.1512 - val_acc: 0.9652\n",
            "Epoch 2/10\n",
            "60/60 [==============================] - 8s 129ms/step - loss: 0.0917 - acc: 0.9790 - val_loss: 0.0981 - val_acc: 0.9720\n",
            "Epoch 3/10\n",
            "60/60 [==============================] - 10s 168ms/step - loss: 0.0547 - acc: 0.9857 - val_loss: 0.0789 - val_acc: 0.9787\n",
            "Epoch 4/10\n",
            "60/60 [==============================] - 9s 144ms/step - loss: 0.1367 - acc: 0.9484 - val_loss: 0.2396 - val_acc: 0.9114\n",
            "Epoch 5/10\n",
            "60/60 [==============================] - 13s 222ms/step - loss: 0.1182 - acc: 0.9557 - val_loss: 0.2024 - val_acc: 0.9406\n",
            "Epoch 6/10\n",
            "60/60 [==============================] - 10s 173ms/step - loss: 0.0394 - acc: 0.9877 - val_loss: 0.0930 - val_acc: 0.9731\n",
            "Epoch 7/10\n",
            "60/60 [==============================] - 9s 148ms/step - loss: 0.0247 - acc: 0.9921 - val_loss: 0.0857 - val_acc: 0.9742\n",
            "Epoch 8/10\n",
            "60/60 [==============================] - 8s 128ms/step - loss: 0.0160 - acc: 0.9961 - val_loss: 0.0814 - val_acc: 0.9765\n",
            "Epoch 9/10\n",
            "60/60 [==============================] - 8s 130ms/step - loss: 0.0197 - acc: 0.9933 - val_loss: 0.1289 - val_acc: 0.9652\n",
            "Epoch 10/10\n",
            "60/60 [==============================] - 8s 130ms/step - loss: 0.0139 - acc: 0.9950 - val_loss: 0.0925 - val_acc: 0.9731\n"
          ]
        }
      ]
    },
    {
      "cell_type": "code",
      "source": [
        "acc = history_rnn.history['acc']\n",
        "val_acc = history_rnn.history['val_acc']\n",
        "loss = history_rnn.history['loss']\n",
        "val_loss = history_rnn.history['val_loss']\n",
        "epochs = range(len(acc))\n",
        "plt.plot(epochs, acc, '-', color='orange', label='training acc')\n",
        "plt.plot(epochs, val_acc, '-', color='blue', label='validation acc')\n",
        "plt.title('Training and validation accuracy')\n",
        "plt.legend()\n",
        "plt.show()\n",
        "\n",
        "plt.plot(epochs, loss, '-', color='orange', label='training acc')\n",
        "plt.plot(epochs, val_loss,  '-', color='blue', label='validation acc')\n",
        "plt.title('Training and validation loss')\n",
        "plt.legend()\n",
        "plt.show()"
      ],
      "metadata": {
        "colab": {
          "base_uri": "https://localhost:8080/",
          "height": 551
        },
        "id": "yLqhGg9n2VXw",
        "outputId": "7df2b7f2-02cf-4b23-f4f3-e7d7093b1b74"
      },
      "execution_count": null,
      "outputs": [
        {
          "output_type": "display_data",
          "data": {
            "text/plain": [
              "<Figure size 432x288 with 1 Axes>"
            ],
            "image/png": "[encoded data removed]"
          },
          "metadata": {}
        },
        {
          "output_type": "display_data",
          "data": {
            "text/plain": [
              "<Figure size 432x288 with 1 Axes>"
            ],
            "image/png": "[encoded data removed]"
          },
          "metadata": {}
        }
      ]
    },
    {
      "cell_type": "code",
      "source": [
        "\n",
        "acc = model.evaluate(texts_test, y_test)\n",
        "proba_rnn = model.predict(texts_test)\n",
        "pred = np.argmax(proba_rnn,axis=1)\n",
        "from sklearn.metrics import confusion_matrix\n",
        "print(\"Test loss is {0:.2f} accuracy is {1:.2f}  \".format(acc[0],acc[1]))\n",
        "print(confusion_matrix(pred, y_test))"
      ],
      "metadata": {
        "colab": {
          "base_uri": "https://localhost:8080/"
        },
        "id": "R3s_wIZL2h2F",
        "outputId": "7d59ce4c-5578-494a-ce8a-d8ba7f3dc50b"
      },
      "execution_count": null,
      "outputs": [
        {
          "output_type": "stream",
          "name": "stdout",
          "text": [
            "35/35 [==============================] - 2s 54ms/step - loss: 0.0507 - acc: 0.9839\n",
            "Test loss is 0.05 accuracy is 0.98  \n",
            "[[985 130]\n",
            " [  0   0]]\n"
          ]
        }
      ]
    },
    {
      "cell_type": "markdown",
      "source": [
        "As we can see simple RNN has some inherent issue and true negative is reduced to 0"
      ],
      "metadata": {
        "id": "vOoWRTJylujE"
      }
    }
  ]
}